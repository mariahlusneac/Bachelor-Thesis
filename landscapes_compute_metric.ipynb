{
  "nbformat": 4,
  "nbformat_minor": 0,
  "metadata": {
    "colab": {
      "name": "predictOnLandscapes_computeMetric",
      "provenance": [],
      "machine_shape": "hm"
    },
    "kernelspec": {
      "name": "python3",
      "display_name": "Python 3"
    },
    "accelerator": "GPU"
  },
  "cells": [
    {
      "cell_type": "code",
      "metadata": {
        "id": "jWCu51opP2pW",
        "colab_type": "code",
        "colab": {
          "base_uri": "https://localhost:8080/",
          "height": 34
        },
        "outputId": "6492f03f-3d24-4206-bafe-6fe45c540c4c"
      },
      "source": [
        "import matplotlib.pyplot as plt\n",
        "from PIL import Image, ImageEnhance\n",
        "import numpy as np\n",
        "from keras.models import load_model"
      ],
      "execution_count": null,
      "outputs": [
        {
          "output_type": "stream",
          "text": [
            "Using TensorFlow backend.\n"
          ],
          "name": "stderr"
        }
      ]
    },
    {
      "cell_type": "code",
      "metadata": {
        "id": "EVhLRo8oxbCb",
        "colab_type": "code",
        "colab": {}
      },
      "source": [
        "def path_models_results_autoenc(model_index):\n",
        "  path = ''\n",
        "  if model_index == 3:\n",
        "    path = 'skip_false_Conv2DTranspose/'\n",
        "  elif model_index == 4:\n",
        "    path = 'skip_false_UpSampling2D/'\n",
        "  elif model_index == 1:\n",
        "    path = 'skip_true_Conv2DTranspose/'\n",
        "  elif model_index == 2:\n",
        "    path = 'skip_true_UpSampling2D/'\n",
        "  path = path_autoencoder + path\n",
        "  return path"
      ],
      "execution_count": null,
      "outputs": []
    },
    {
      "cell_type": "code",
      "metadata": {
        "id": "wWbLbss7QAQ3",
        "colab_type": "code",
        "colab": {}
      },
      "source": [
        "def path_models_results_gan(model_index):\n",
        "  model_index = int(model_index)\n",
        "  path = ''\n",
        "  if model_index == 11:\n",
        "    path = '11_skipTrue_conv2D_basic_-_0.5_20,80/'\n",
        "  elif model_index == 12:\n",
        "    path = '12_skipTrue_conv2D_convo_4_0.5_20,80/'\n",
        "  elif int(model_index // 10) == 13 or model_index == 13:\n",
        "    path = '13_skipTrue_conv2D_convo_8_0.5_20,80/'\n",
        "  elif model_index == 21:\n",
        "    path = '21_skipTrue_upsample2D_basic_-_0.5_20,80/'\n",
        "  elif model_index == 22:\n",
        "    path = '22_skipTrue_upsample2D_convo_4_0.5_20,80/'\n",
        "  elif model_index == 23:\n",
        "    path = '23_skipTrue_upsample2D_convo_8_0.5_20,80/'\n",
        "  elif model_index == 31:\n",
        "    path = '31_skipFalse_conv2D_basic_-_0.5_20,80/'\n",
        "  elif model_index == 32:\n",
        "    path = '32_skipFalse_conv2D_convo_4_0.5_20,80/'\n",
        "  elif model_index == 33:\n",
        "    path = '33_skipFalse_conv2D_convo_8_0.5_20,80/'\n",
        "  elif model_index == 41:\n",
        "    path = '41_skipFalse_upsample2D_basic_-_0.5_20,80/'\n",
        "  elif model_index == 42:\n",
        "    path = '42_skipFalse_upsample2D_convo_4_0.5_20,80/'\n",
        "  elif model_index == 43:\n",
        "    path = '43_skipFalse_upsample2D_convo_8_0.5_20,80/'\n",
        "  path = path_gan + path\n",
        "  return path"
      ],
      "execution_count": null,
      "outputs": []
    },
    {
      "cell_type": "markdown",
      "metadata": {
        "id": "fmvyp4jfxj4_",
        "colab_type": "text"
      },
      "source": [
        "Autoencoder - big dataset"
      ]
    },
    {
      "cell_type": "code",
      "metadata": {
        "id": "la7CmuevQM1E",
        "colab_type": "code",
        "colab": {}
      },
      "source": [
        "path_landscapes = '/content/drive/My Drive/Licenta/landscapes/'\n",
        "# path_landscapes = 'landscapes/'\n",
        "path_archives = path_landscapes + 'dataset/big_dataset/all/'\n",
        "# path_archives = 'archives/'\n",
        "path_mr = path_landscapes + 'models+results/'\n",
        "# path_cleancode = path_mr + 'cleancode/'\n",
        "path_autoencoder = path_mr + 'autoencoder/'\n",
        "path_gan = path_mr + 'gan/'\n",
        "# print(path_gan)"
      ],
      "execution_count": null,
      "outputs": []
    },
    {
      "cell_type": "code",
      "metadata": {
        "id": "QOihEtRcxlfs",
        "colab_type": "code",
        "colab": {}
      },
      "source": [
        "model_index = 1\n",
        "train_number = '1'\n",
        "path_architecture = path_models_results_autoenc(model_index)\n",
        "path_models = path_architecture + 'models' + train_number + '/'\n",
        "path_model = path_models + 'weights.30-0.00.h5'\n",
        "path_results = path_architecture + 'results' + train_number + '/'"
      ],
      "execution_count": null,
      "outputs": []
    },
    {
      "cell_type": "code",
      "metadata": {
        "id": "7IIv2PNQQqCm",
        "colab_type": "code",
        "colab": {}
      },
      "source": [
        "x_test_paths = ['x_test_1.npz', 'x_test_2.npz', 'x_test_3.npz', 'x_test_4.npz']\n",
        "y_test_paths = ['y_test_1.npz', 'y_test_2.npz', 'y_test_3.npz', 'y_test_4.npz']\n",
        "x_test_arrays = []\n",
        "y_test_arrays = []\n",
        "\n",
        "for xp in x_test_paths:\n",
        "  x_test = np.load(path_archives + xp)\n",
        "  x_test = x_test['x_test']/255\n",
        "  x_test_arrays.append(x_test)\n",
        "\n",
        "for yp in y_test_paths:\n",
        "  y_test = np.load(path_archives + yp)\n",
        "  y_test = y_test['y_test']/255\n",
        "  y_test_arrays.append(y_test)"
      ],
      "execution_count": null,
      "outputs": []
    },
    {
      "cell_type": "code",
      "metadata": {
        "id": "j3qtxVACRj6Z",
        "colab_type": "code",
        "colab": {}
      },
      "source": [
        "autoenc = load_model(path_model)"
      ],
      "execution_count": null,
      "outputs": []
    },
    {
      "cell_type": "code",
      "metadata": {
        "id": "VN-uFlOsRmsx",
        "colab_type": "code",
        "colab": {}
      },
      "source": [
        "y_preds = []\n",
        "for xt in x_test_arrays:\n",
        "  y_pred = autoenc.predict(xt)\n",
        "  y_preds.append(y_pred)"
      ],
      "execution_count": null,
      "outputs": []
    },
    {
      "cell_type": "code",
      "metadata": {
        "id": "zaScnZfPRwxC",
        "colab_type": "code",
        "colab": {}
      },
      "source": [
        "diff_arrays_ae = []\n",
        "diffs_ae = []\n",
        "\n",
        "for j, y_pred_ae in enumerate(y_preds):\n",
        "  for i, y in enumerate(y_pred_ae):\n",
        "    diff_array_ae = np.abs(y_test_arrays[j][i]-y_pred_ae[i])\n",
        "    diff_arrays_ae.append(diff_array_ae)\n",
        "    diff_ae = np.sum(diff_array_ae)\n",
        "    diffs_ae.append(diff_ae)"
      ],
      "execution_count": null,
      "outputs": []
    },
    {
      "cell_type": "code",
      "metadata": {
        "colab_type": "code",
        "id": "0-xvw505TJSK",
        "colab": {}
      },
      "source": [
        "# calculate per_pixel_diff_means (diferenta medie a unui pixel, calculata pe fiecare imagine)\n",
        "nr_pixels = 216*176*3\n",
        "per_pixel_diff_means_ae = []\n",
        "for diff in diffs_ae:\n",
        "  per_pixel_diff_means_ae.append(diff/nr_pixels)"
      ],
      "execution_count": null,
      "outputs": []
    },
    {
      "cell_type": "code",
      "metadata": {
        "colab_type": "code",
        "id": "NXWRDiRzTJSR",
        "colab": {
          "base_uri": "https://localhost:8080/",
          "height": 34
        },
        "outputId": "4223b8af-502e-439d-e27b-79ebb2dd79ff"
      },
      "source": [
        "print('minim:', np.min(per_pixel_diff_means_ae), 'medie:', np.mean(per_pixel_diff_means_ae), 'maxim:', np.max(per_pixel_diff_means_ae))"
      ],
      "execution_count": null,
      "outputs": [
        {
          "output_type": "stream",
          "text": [
            "minim: 0.020092176046436896 medie: 0.08641724419213836 maxim: 0.43907743803257654\n"
          ],
          "name": "stdout"
        }
      ]
    },
    {
      "cell_type": "code",
      "metadata": {
        "id": "MkntTwz3SsIU",
        "colab_type": "code",
        "colab": {
          "base_uri": "https://localhost:8080/",
          "height": 34
        },
        "outputId": "189d0022-713f-4d08-e6eb-a0a9a9ec705e"
      },
      "source": [
        "# diferenta medie pe setul de peisaje cu autoencoder\n",
        "np.mean(diffs_ae)/1000"
      ],
      "execution_count": null,
      "outputs": [
        {
          "output_type": "execute_result",
          "data": {
            "text/plain": [
              "9.85571386554572"
            ]
          },
          "metadata": {
            "tags": []
          },
          "execution_count": 10
        }
      ]
    },
    {
      "cell_type": "markdown",
      "metadata": {
        "id": "Bwc2oGeSxiu_",
        "colab_type": "text"
      },
      "source": [
        "GAN - big dataset"
      ]
    },
    {
      "cell_type": "code",
      "metadata": {
        "id": "Ou-bBIbEQTu5",
        "colab_type": "code",
        "colab": {}
      },
      "source": [
        "model_index = 13\n",
        "train_number = '2'\n",
        "path_architecture = path_models_results_gan(model_index)\n",
        "path_models = path_architecture + 'models' + train_number + '/'\n",
        "path_model = path_models + 'gener_ep4.h5'\n",
        "path_results = path_architecture + 'results' + train_number + '/'"
      ],
      "execution_count": null,
      "outputs": []
    },
    {
      "cell_type": "code",
      "metadata": {
        "id": "7D2b4V7PQNsO",
        "colab_type": "code",
        "colab": {
          "base_uri": "https://localhost:8080/",
          "height": 52
        },
        "outputId": "f587041a-16d5-4e45-9719-7e9d6ecffff6"
      },
      "source": [
        "generator = load_model(path_model)"
      ],
      "execution_count": null,
      "outputs": [
        {
          "output_type": "stream",
          "text": [
            "/usr/local/lib/python3.6/dist-packages/keras/engine/saving.py:341: UserWarning: No training configuration found in save file: the model was *not* compiled. Compile it manually.\n",
            "  warnings.warn('No training configuration found in save file: '\n"
          ],
          "name": "stderr"
        }
      ]
    },
    {
      "cell_type": "code",
      "metadata": {
        "id": "tHWEi-VQTbcf",
        "colab_type": "code",
        "colab": {}
      },
      "source": [
        "y_preds_g = []\n",
        "for xt in x_test_arrays:\n",
        "  y_pred_g = generator.predict(xt)\n",
        "  y_preds_g.append(y_pred_g)"
      ],
      "execution_count": null,
      "outputs": []
    },
    {
      "cell_type": "code",
      "metadata": {
        "id": "QC4ct_eZTfYN",
        "colab_type": "code",
        "colab": {}
      },
      "source": [
        "diff_arrays_g = []\n",
        "diffs_g = []\n",
        "\n",
        "for j, y_pred_g in enumerate(y_preds_g):\n",
        "  for i, y in enumerate(y_pred_g):\n",
        "    diff_array_g = np.abs(y_test_arrays[j][i]-y_pred_g[i])\n",
        "    diff_arrays_g.append(diff_array_g)\n",
        "    diff_g = np.sum(diff_array_g)\n",
        "    diffs_g.append(diff_g)"
      ],
      "execution_count": null,
      "outputs": []
    },
    {
      "cell_type": "code",
      "metadata": {
        "colab_type": "code",
        "id": "z2_kI9fm4h5p",
        "colab": {}
      },
      "source": [
        "# calculate per_pixel_diff_means (diferenta medie a unui pixel, calculata pe fiecare imagine)\n",
        "nr_pixels = 216*176*3\n",
        "per_pixel_diff_means_g = []\n",
        "for diff in diffs_g:\n",
        "  per_pixel_diff_means_g.append(diff/nr_pixels)"
      ],
      "execution_count": null,
      "outputs": []
    },
    {
      "cell_type": "code",
      "metadata": {
        "colab_type": "code",
        "id": "4nDgEKYX4h5u",
        "colab": {
          "base_uri": "https://localhost:8080/",
          "height": 34
        },
        "outputId": "6ea0d5e3-b5d0-492b-eaeb-c5b22bbc410c"
      },
      "source": [
        "print('minim:', np.min(per_pixel_diff_means_g), 'medie:', np.mean(per_pixel_diff_means_g), 'maxim:', np.max(per_pixel_diff_means_g))"
      ],
      "execution_count": null,
      "outputs": [
        {
          "output_type": "stream",
          "text": [
            "minim: 0.11108941582389542 medie: 0.251846745177376 maxim: 0.684539615339657\n"
          ],
          "name": "stdout"
        }
      ]
    },
    {
      "cell_type": "code",
      "metadata": {
        "id": "e8ZKzPh3TiIw",
        "colab_type": "code",
        "colab": {
          "base_uri": "https://localhost:8080/",
          "height": 34
        },
        "outputId": "382429a5-4eee-4e20-cce3-0711c0b82980"
      },
      "source": [
        "# diferenta medie pe setul de peisaje cu gan\n",
        "np.mean(diffs_g)/1000"
      ],
      "execution_count": null,
      "outputs": [
        {
          "output_type": "execute_result",
          "data": {
            "text/plain": [
              "28.72321713935445"
            ]
          },
          "metadata": {
            "tags": []
          },
          "execution_count": 10
        }
      ]
    },
    {
      "cell_type": "markdown",
      "metadata": {
        "id": "Ud1Y9kSlVdpr",
        "colab_type": "text"
      },
      "source": [
        "Autoencoder - small dataset"
      ]
    },
    {
      "cell_type": "code",
      "metadata": {
        "id": "UVYTmLcpVcv2",
        "colab_type": "code",
        "colab": {}
      },
      "source": [
        "path_landscapes = '/content/drive/My Drive/Licenta/landscapes/'\n",
        "# path_landscapes = 'landscapes/'\n",
        "path_archives = path_landscapes + 'dataset/small_dataset/all/'\n",
        "# path_archives = 'archives/'\n",
        "path_mr = path_landscapes + 'models+results/'\n",
        "# path_cleancode = path_mr + 'cleancode/'\n",
        "path_autoencoder = path_mr + 'autoencoder/'\n",
        "path_gan = path_mr + 'gan/'\n",
        "# print(path_gan)"
      ],
      "execution_count": null,
      "outputs": []
    },
    {
      "cell_type": "code",
      "metadata": {
        "id": "jOqu-TxhUFKl",
        "colab_type": "code",
        "colab": {}
      },
      "source": [
        "model_index = 1\n",
        "train_number = '2'\n",
        "path_architecture = path_models_results_autoenc(model_index)\n",
        "path_models = path_architecture + 'models' + train_number + '/'\n",
        "path_model = path_models + 'weights.70-0.01.h5'\n",
        "path_results = path_architecture + 'results' + train_number + '/'"
      ],
      "execution_count": null,
      "outputs": []
    },
    {
      "cell_type": "code",
      "metadata": {
        "colab_type": "code",
        "id": "6LZGuIScV-fQ",
        "colab": {}
      },
      "source": [
        "autoenc = load_model(path_model)"
      ],
      "execution_count": null,
      "outputs": []
    },
    {
      "cell_type": "code",
      "metadata": {
        "colab_type": "code",
        "id": "mKfvtOI8V-fV",
        "colab": {}
      },
      "source": [
        "y_preds = []\n",
        "for xt in x_test_arrays:\n",
        "  y_pred = autoenc.predict(xt)\n",
        "  y_preds.append(y_pred)"
      ],
      "execution_count": null,
      "outputs": []
    },
    {
      "cell_type": "code",
      "metadata": {
        "colab_type": "code",
        "id": "FpH1ug8-V-fX",
        "colab": {}
      },
      "source": [
        "diff_arrays_ae = []\n",
        "diffs_ae = []\n",
        "\n",
        "for j, y_pred_ae in enumerate(y_preds):\n",
        "  for i, y in enumerate(y_pred_ae):\n",
        "    diff_array_ae = np.abs(y_test_arrays[j][i]-y_pred_ae[i])\n",
        "    diff_arrays_ae.append(diff_array_ae)\n",
        "    diff_ae = np.sum(diff_array_ae)\n",
        "    diffs_ae.append(diff_ae)"
      ],
      "execution_count": null,
      "outputs": []
    },
    {
      "cell_type": "code",
      "metadata": {
        "colab_type": "code",
        "id": "OrczAcuDSxN5",
        "colab": {}
      },
      "source": [
        "# calculate per_pixel_diff_means (diferenta medie a unui pixel, calculata pe fiecare imagine)\n",
        "nr_pixels = 216*176*3\n",
        "per_pixel_diff_means_ae = []\n",
        "for diff in diffs_ae:\n",
        "  per_pixel_diff_means_ae.append(diff/nr_pixels)"
      ],
      "execution_count": null,
      "outputs": []
    },
    {
      "cell_type": "code",
      "metadata": {
        "colab_type": "code",
        "id": "-29Nvo1ZSxOG",
        "colab": {
          "base_uri": "https://localhost:8080/",
          "height": 34
        },
        "outputId": "32136d9f-9164-465b-c9a2-98d5770f1c48"
      },
      "source": [
        "print('minim:', np.min(per_pixel_diff_means_ae), 'medie:', np.mean(per_pixel_diff_means_ae), 'maxim:', np.max(per_pixel_diff_means_ae))"
      ],
      "execution_count": null,
      "outputs": [
        {
          "output_type": "stream",
          "text": [
            "minim: 0.021006629362765945 medie: 0.08656865110937179 maxim: 0.44343614201586407\n"
          ],
          "name": "stdout"
        }
      ]
    },
    {
      "cell_type": "code",
      "metadata": {
        "colab_type": "code",
        "id": "QHkbsozwV-fb",
        "colab": {
          "base_uri": "https://localhost:8080/",
          "height": 34
        },
        "outputId": "8072fe24-ca2c-4128-d336-d03df275f084"
      },
      "source": [
        "# diferenta medie pe setul de peisaje cu autoencoder\n",
        "np.mean(diffs_ae)/1000"
      ],
      "execution_count": null,
      "outputs": [
        {
          "output_type": "execute_result",
          "data": {
            "text/plain": [
              "9.26462788513798"
            ]
          },
          "metadata": {
            "tags": []
          },
          "execution_count": 10
        }
      ]
    },
    {
      "cell_type": "markdown",
      "metadata": {
        "id": "c6ntpzDyWaKk",
        "colab_type": "text"
      },
      "source": [
        "GAN - small dataset"
      ]
    },
    {
      "cell_type": "code",
      "metadata": {
        "colab_type": "code",
        "id": "hLfPxkMHWgif",
        "colab": {}
      },
      "source": [
        "model_index = 13\n",
        "train_number = '1'\n",
        "path_architecture = path_models_results_gan(model_index)\n",
        "path_models = path_architecture + 'models' + train_number + '/'\n",
        "path_model = path_models + 'gener_ep3.0.h5'\n",
        "# path_results = path_architecture + 'results' + train_number + '/'"
      ],
      "execution_count": null,
      "outputs": []
    },
    {
      "cell_type": "code",
      "metadata": {
        "colab_type": "code",
        "id": "X579eoGRWgik",
        "colab": {
          "base_uri": "https://localhost:8080/",
          "height": 52
        },
        "outputId": "31344a7d-79de-4c88-b63d-ff9729e59b17"
      },
      "source": [
        "generator = load_model(path_model)"
      ],
      "execution_count": null,
      "outputs": [
        {
          "output_type": "stream",
          "text": [
            "/usr/local/lib/python3.6/dist-packages/keras/engine/saving.py:341: UserWarning: No training configuration found in save file: the model was *not* compiled. Compile it manually.\n",
            "  warnings.warn('No training configuration found in save file: '\n"
          ],
          "name": "stderr"
        }
      ]
    },
    {
      "cell_type": "code",
      "metadata": {
        "id": "A23OdehgUYcT",
        "colab_type": "code",
        "colab": {
          "base_uri": "https://localhost:8080/",
          "height": 34
        },
        "outputId": "d709d16a-4c44-4e06-d99f-055ca93d0870"
      },
      "source": [
        "path_model"
      ],
      "execution_count": null,
      "outputs": [
        {
          "output_type": "execute_result",
          "data": {
            "text/plain": [
              "'/content/drive/My Drive/Licenta/landscapes/models+results/gan/13_skipTrue_conv2D_convo_8_0.5_20,80/models1/gener_ep3.0.h5'"
            ]
          },
          "metadata": {
            "tags": []
          },
          "execution_count": 24
        }
      ]
    },
    {
      "cell_type": "code",
      "metadata": {
        "colab_type": "code",
        "id": "uTK10yoFWgin",
        "colab": {}
      },
      "source": [
        "y_preds_g = []\n",
        "for xt in x_test_arrays:\n",
        "  y_pred_g = generator.predict(xt)\n",
        "  y_preds_g.append(y_pred_g)"
      ],
      "execution_count": null,
      "outputs": []
    },
    {
      "cell_type": "code",
      "metadata": {
        "colab_type": "code",
        "id": "_5wxuIOUWgip",
        "colab": {}
      },
      "source": [
        "diff_arrays_g = []\n",
        "diffs_g = []\n",
        "\n",
        "for j, y_pred_g in enumerate(y_preds_g):\n",
        "  for i, y in enumerate(y_pred_g):\n",
        "    diff_array_g = np.abs(y_test_arrays[j][i]-y_pred_g[i])\n",
        "    diff_arrays_g.append(diff_array_g)\n",
        "    diff_g = np.sum(diff_array_g)\n",
        "    diffs_g.append(diff_g)"
      ],
      "execution_count": null,
      "outputs": []
    },
    {
      "cell_type": "code",
      "metadata": {
        "colab_type": "code",
        "id": "qwRdHowDTIgZ",
        "colab": {}
      },
      "source": [
        "# calculate per_pixel_diff_means (diferenta medie a unui pixel, calculata pe fiecare imagine)\n",
        "nr_pixels = 216*176*3\n",
        "per_pixel_diff_means_g = []\n",
        "for diff in diffs_g:\n",
        "  per_pixel_diff_means_g.append(diff/nr_pixels)"
      ],
      "execution_count": null,
      "outputs": []
    },
    {
      "cell_type": "code",
      "metadata": {
        "colab_type": "code",
        "id": "kizUdBbYTIgg",
        "colab": {
          "base_uri": "https://localhost:8080/",
          "height": 34
        },
        "outputId": "55b54e24-28b8-424b-d5ed-a48516f396d3"
      },
      "source": [
        "print('minim:', np.min(per_pixel_diff_means_g), 'medie:', np.mean(per_pixel_diff_means_g), 'maxim:', np.max(per_pixel_diff_means_g))"
      ],
      "execution_count": null,
      "outputs": [
        {
          "output_type": "stream",
          "text": [
            "minim: 0.029398182004089047 medie: 0.08718942889282047 maxim: 0.41594464441182805\n"
          ],
          "name": "stdout"
        }
      ]
    },
    {
      "cell_type": "code",
      "metadata": {
        "colab_type": "code",
        "id": "Kr1ZAPRbWgir",
        "colab": {
          "base_uri": "https://localhost:8080/",
          "height": 34
        },
        "outputId": "2a3366cf-a0b7-4e98-abcf-71c28107213f"
      },
      "source": [
        "# diferenta medie pe setul de peisaje cu gan\n",
        "np.mean(diffs_g)/1000"
      ],
      "execution_count": null,
      "outputs": [
        {
          "output_type": "execute_result",
          "data": {
            "text/plain": [
              "9.534064308027228"
            ]
          },
          "metadata": {
            "tags": []
          },
          "execution_count": 10
        }
      ]
    },
    {
      "cell_type": "markdown",
      "metadata": {
        "id": "tHCSfKo7xsAx",
        "colab_type": "text"
      },
      "source": [
        "Predict and save images"
      ]
    },
    {
      "cell_type": "code",
      "metadata": {
        "id": "e3-8LvSsaKiM",
        "colab_type": "code",
        "colab": {}
      },
      "source": [
        "model_index = 13\n",
        "train_number = '4'\n",
        "path_architecture = path_models_results_gan(model_index)\n",
        "path_models = path_architecture + 'models' + train_number + '_bun/'\n",
        "path_model = path_models + 'gener_ep3.h5'\n",
        "archive_number = '8'\n",
        "path_results = path_architecture + 'results' + train_number + '_test' + archive_number + '_bun/'"
      ],
      "execution_count": null,
      "outputs": []
    },
    {
      "cell_type": "code",
      "metadata": {
        "id": "mpz1m20_9657",
        "colab_type": "code",
        "colab": {
          "base_uri": "https://localhost:8080/",
          "height": 34
        },
        "outputId": "993ac2cb-37b8-4f0b-f4b0-3c0271ce0a85"
      },
      "source": [
        "path_model"
      ],
      "execution_count": null,
      "outputs": [
        {
          "output_type": "execute_result",
          "data": {
            "text/plain": [
              "'/content/drive/My Drive/Licenta/landscapes/models+results/gan/13_skipTrue_conv2D_convo_8_0.5_20,80/models4_bun/gener_ep3.h5'"
            ]
          },
          "metadata": {
            "tags": []
          },
          "execution_count": 16
        }
      ]
    },
    {
      "cell_type": "code",
      "metadata": {
        "id": "ZiaDyacuyEyA",
        "colab_type": "code",
        "colab": {
          "base_uri": "https://localhost:8080/",
          "height": 52
        },
        "outputId": "4a01d7f6-b5e7-4f28-a63e-4c89635049d7"
      },
      "source": [
        "generator = load_model(path_model)"
      ],
      "execution_count": null,
      "outputs": [
        {
          "output_type": "stream",
          "text": [
            "/usr/local/lib/python3.6/dist-packages/keras/engine/saving.py:341: UserWarning: No training configuration found in save file: the model was *not* compiled. Compile it manually.\n",
            "  warnings.warn('No training configuration found in save file: '\n"
          ],
          "name": "stderr"
        }
      ]
    },
    {
      "cell_type": "code",
      "metadata": {
        "id": "1a9ivJ8RVVdV",
        "colab_type": "code",
        "colab": {}
      },
      "source": [
        "x_test = np.load(path_archives + 'x_test_' + archive_number + '.npz')\n",
        "x_test = x_test['x_test']/255"
      ],
      "execution_count": null,
      "outputs": []
    },
    {
      "cell_type": "code",
      "metadata": {
        "id": "eRANtW20VV6c",
        "colab_type": "code",
        "colab": {}
      },
      "source": [
        "y_pred = generator.predict(x_test)"
      ],
      "execution_count": null,
      "outputs": []
    },
    {
      "cell_type": "code",
      "metadata": {
        "id": "u8TH0O2IVkFf",
        "colab_type": "code",
        "colab": {}
      },
      "source": [
        "y_pred = y_pred * 255\n",
        "\n",
        "for i, y in enumerate(y_pred):\n",
        "    img = Image.fromarray(y.astype(np.uint8))\n",
        "    img.save(path_results + '{}.jpg'.format(i))"
      ],
      "execution_count": null,
      "outputs": []
    },
    {
      "cell_type": "code",
      "metadata": {
        "id": "ha9Y0T7VAPq5",
        "colab_type": "code",
        "colab": {
          "base_uri": "https://localhost:8080/",
          "height": 34
        },
        "outputId": "c47f332b-417b-4567-f1fc-cacb4516dbb5"
      },
      "source": [
        "y_pred[0]/255"
      ],
      "execution_count": null,
      "outputs": [
        {
          "output_type": "execute_result",
          "data": {
            "text/plain": [
              "-0.6545721"
            ]
          },
          "metadata": {
            "tags": []
          },
          "execution_count": 105
        }
      ]
    },
    {
      "cell_type": "code",
      "metadata": {
        "id": "4CDt27NvCZJE",
        "colab_type": "code",
        "colab": {}
      },
      "source": [
        "ran = np.clip(np.abs(np.random.randn(1,256,256,1)),0,1)"
      ],
      "execution_count": null,
      "outputs": []
    },
    {
      "cell_type": "code",
      "metadata": {
        "id": "gmTx5j_FDH2q",
        "colab_type": "code",
        "colab": {}
      },
      "source": [
        "ran = np.ones((1,256,256,1))"
      ],
      "execution_count": null,
      "outputs": []
    },
    {
      "cell_type": "code",
      "metadata": {
        "id": "ACAX3YU1AzQ_",
        "colab_type": "code",
        "colab": {}
      },
      "source": [
        "a = generator.predict(ran)             #np.array([x_test[0]]))"
      ],
      "execution_count": null,
      "outputs": []
    },
    {
      "cell_type": "code",
      "metadata": {
        "id": "8MQNdWVyA4NT",
        "colab_type": "code",
        "colab": {}
      },
      "source": [
        "b = generator.predict(ran)             #np.array([x_test[0]]))"
      ],
      "execution_count": null,
      "outputs": []
    },
    {
      "cell_type": "code",
      "metadata": {
        "id": "E0Lmuwu8k9j1",
        "colab_type": "code",
        "colab": {}
      },
      "source": [
        ""
      ],
      "execution_count": null,
      "outputs": []
    },
    {
      "cell_type": "code",
      "metadata": {
        "id": "SQHCgc34A5zB",
        "colab_type": "code",
        "colab": {
          "base_uri": "https://localhost:8080/",
          "height": 193
        },
        "outputId": "6ab5b6c0-8550-409c-fc35-3f7a3c2ebbb0"
      },
      "source": [
        "[generator.predict(ran)[0][0][0][0] for _ in range(10)]"
      ],
      "execution_count": null,
      "outputs": [
        {
          "output_type": "execute_result",
          "data": {
            "text/plain": [
              "[0.96830165,\n",
              " 0.93872136,\n",
              " 0.8931426,\n",
              " 0.97759783,\n",
              " 0.9790716,\n",
              " 0.91854906,\n",
              " 0.8725319,\n",
              " 0.96415657,\n",
              " 0.9045041,\n",
              " 0.9720786]"
            ]
          },
          "metadata": {
            "tags": []
          },
          "execution_count": 172
        }
      ]
    },
    {
      "cell_type": "code",
      "metadata": {
        "id": "sUkos1HEDxzP",
        "colab_type": "code",
        "colab": {
          "base_uri": "https://localhost:8080/",
          "height": 1000
        },
        "outputId": "fe5b5e07-3824-4266-cad4-2b554eee4a72"
      },
      "source": [
        "generator.summary()"
      ],
      "execution_count": null,
      "outputs": [
        {
          "output_type": "stream",
          "text": [
            "Model: \"model_3\"\n",
            "__________________________________________________________________________________________________\n",
            "Layer (type)                    Output Shape         Param #     Connected to                     \n",
            "==================================================================================================\n",
            "input_6 (InputLayer)            (None, 256, 256, 1)  0                                            \n",
            "__________________________________________________________________________________________________\n",
            "conv2d_14 (Conv2D)              (None, 128, 128, 64) 640         input_6[0][0]                    \n",
            "__________________________________________________________________________________________________\n",
            "leaky_re_lu_12 (LeakyReLU)      (None, 128, 128, 64) 0           conv2d_14[0][0]                  \n",
            "__________________________________________________________________________________________________\n",
            "conv2d_15 (Conv2D)              (None, 128, 128, 128 73856       leaky_re_lu_12[0][0]             \n",
            "__________________________________________________________________________________________________\n",
            "leaky_re_lu_13 (LeakyReLU)      (None, 128, 128, 128 0           conv2d_15[0][0]                  \n",
            "__________________________________________________________________________________________________\n",
            "conv2d_16 (Conv2D)              (None, 64, 64, 128)  16512       leaky_re_lu_13[0][0]             \n",
            "__________________________________________________________________________________________________\n",
            "batch_normalization_9 (BatchNor (None, 64, 64, 128)  512         conv2d_16[0][0]                  \n",
            "__________________________________________________________________________________________________\n",
            "leaky_re_lu_14 (LeakyReLU)      (None, 64, 64, 128)  0           batch_normalization_9[0][0]      \n",
            "__________________________________________________________________________________________________\n",
            "conv2d_17 (Conv2D)              (None, 64, 64, 256)  295168      leaky_re_lu_14[0][0]             \n",
            "__________________________________________________________________________________________________\n",
            "batch_normalization_10 (BatchNo (None, 64, 64, 256)  1024        conv2d_17[0][0]                  \n",
            "__________________________________________________________________________________________________\n",
            "leaky_re_lu_15 (LeakyReLU)      (None, 64, 64, 256)  0           batch_normalization_10[0][0]     \n",
            "__________________________________________________________________________________________________\n",
            "conv2d_18 (Conv2D)              (None, 32, 32, 256)  65792       leaky_re_lu_15[0][0]             \n",
            "__________________________________________________________________________________________________\n",
            "batch_normalization_11 (BatchNo (None, 32, 32, 256)  1024        conv2d_18[0][0]                  \n",
            "__________________________________________________________________________________________________\n",
            "leaky_re_lu_16 (LeakyReLU)      (None, 32, 32, 256)  0           batch_normalization_11[0][0]     \n",
            "__________________________________________________________________________________________________\n",
            "conv2d_19 (Conv2D)              (None, 32, 32, 512)  1180160     leaky_re_lu_16[0][0]             \n",
            "__________________________________________________________________________________________________\n",
            "batch_normalization_12 (BatchNo (None, 32, 32, 512)  2048        conv2d_19[0][0]                  \n",
            "__________________________________________________________________________________________________\n",
            "leaky_re_lu_17 (LeakyReLU)      (None, 32, 32, 512)  0           batch_normalization_12[0][0]     \n",
            "__________________________________________________________________________________________________\n",
            "conv2d_20 (Conv2D)              (None, 32, 32, 512)  4194816     leaky_re_lu_17[0][0]             \n",
            "__________________________________________________________________________________________________\n",
            "activation_3 (Activation)       (None, 32, 32, 512)  0           conv2d_20[0][0]                  \n",
            "__________________________________________________________________________________________________\n",
            "conv2d_transpose_1 (Conv2DTrans (None, 32, 32, 512)  262656      activation_3[0][0]               \n",
            "__________________________________________________________________________________________________\n",
            "batch_normalization_13 (BatchNo (None, 32, 32, 512)  2048        conv2d_transpose_1[0][0]         \n",
            "__________________________________________________________________________________________________\n",
            "concatenate_8 (Concatenate)     (None, 32, 32, 1024) 0           batch_normalization_13[0][0]     \n",
            "                                                                 leaky_re_lu_17[0][0]             \n",
            "__________________________________________________________________________________________________\n",
            "activation_4 (Activation)       (None, 32, 32, 1024) 0           concatenate_8[0][0]              \n",
            "__________________________________________________________________________________________________\n",
            "conv2d_transpose_2 (Conv2DTrans (None, 32, 32, 256)  2359552     activation_4[0][0]               \n",
            "__________________________________________________________________________________________________\n",
            "batch_normalization_14 (BatchNo (None, 32, 32, 256)  1024        conv2d_transpose_2[0][0]         \n",
            "__________________________________________________________________________________________________\n",
            "concatenate_9 (Concatenate)     (None, 32, 32, 512)  0           batch_normalization_14[0][0]     \n",
            "                                                                 leaky_re_lu_16[0][0]             \n",
            "__________________________________________________________________________________________________\n",
            "activation_5 (Activation)       (None, 32, 32, 512)  0           concatenate_9[0][0]              \n",
            "__________________________________________________________________________________________________\n",
            "conv2d_transpose_3 (Conv2DTrans (None, 64, 64, 256)  131328      activation_5[0][0]               \n",
            "__________________________________________________________________________________________________\n",
            "batch_normalization_15 (BatchNo (None, 64, 64, 256)  1024        conv2d_transpose_3[0][0]         \n",
            "__________________________________________________________________________________________________\n",
            "dropout_1 (Dropout)             (None, 64, 64, 256)  0           batch_normalization_15[0][0]     \n",
            "__________________________________________________________________________________________________\n",
            "concatenate_10 (Concatenate)    (None, 64, 64, 512)  0           dropout_1[0][0]                  \n",
            "                                                                 leaky_re_lu_15[0][0]             \n",
            "__________________________________________________________________________________________________\n",
            "activation_6 (Activation)       (None, 64, 64, 512)  0           concatenate_10[0][0]             \n",
            "__________________________________________________________________________________________________\n",
            "conv2d_transpose_4 (Conv2DTrans (None, 64, 64, 128)  589952      activation_6[0][0]               \n",
            "__________________________________________________________________________________________________\n",
            "batch_normalization_16 (BatchNo (None, 64, 64, 128)  512         conv2d_transpose_4[0][0]         \n",
            "__________________________________________________________________________________________________\n",
            "dropout_2 (Dropout)             (None, 64, 64, 128)  0           batch_normalization_16[0][0]     \n",
            "__________________________________________________________________________________________________\n",
            "concatenate_11 (Concatenate)    (None, 64, 64, 256)  0           dropout_2[0][0]                  \n",
            "                                                                 leaky_re_lu_14[0][0]             \n",
            "__________________________________________________________________________________________________\n",
            "activation_7 (Activation)       (None, 64, 64, 256)  0           concatenate_11[0][0]             \n",
            "__________________________________________________________________________________________________\n",
            "conv2d_transpose_5 (Conv2DTrans (None, 128, 128, 128 32896       activation_7[0][0]               \n",
            "__________________________________________________________________________________________________\n",
            "batch_normalization_17 (BatchNo (None, 128, 128, 128 512         conv2d_transpose_5[0][0]         \n",
            "__________________________________________________________________________________________________\n",
            "dropout_3 (Dropout)             (None, 128, 128, 128 0           batch_normalization_17[0][0]     \n",
            "__________________________________________________________________________________________________\n",
            "concatenate_12 (Concatenate)    (None, 128, 128, 256 0           dropout_3[0][0]                  \n",
            "                                                                 leaky_re_lu_13[0][0]             \n",
            "__________________________________________________________________________________________________\n",
            "activation_8 (Activation)       (None, 128, 128, 256 0           concatenate_12[0][0]             \n",
            "__________________________________________________________________________________________________\n",
            "conv2d_transpose_6 (Conv2DTrans (None, 128, 128, 64) 147520      activation_8[0][0]               \n",
            "__________________________________________________________________________________________________\n",
            "batch_normalization_18 (BatchNo (None, 128, 128, 64) 256         conv2d_transpose_6[0][0]         \n",
            "__________________________________________________________________________________________________\n",
            "dropout_4 (Dropout)             (None, 128, 128, 64) 0           batch_normalization_18[0][0]     \n",
            "__________________________________________________________________________________________________\n",
            "concatenate_13 (Concatenate)    (None, 128, 128, 128 0           dropout_4[0][0]                  \n",
            "                                                                 leaky_re_lu_12[0][0]             \n",
            "__________________________________________________________________________________________________\n",
            "activation_9 (Activation)       (None, 128, 128, 128 0           concatenate_13[0][0]             \n",
            "__________________________________________________________________________________________________\n",
            "conv2d_transpose_7 (Conv2DTrans (None, 256, 256, 3)  3459        activation_9[0][0]               \n",
            "__________________________________________________________________________________________________\n",
            "activation_10 (Activation)      (None, 256, 256, 3)  0           conv2d_transpose_7[0][0]         \n",
            "==================================================================================================\n",
            "Total params: 9,364,291\n",
            "Trainable params: 9,359,299\n",
            "Non-trainable params: 4,992\n",
            "__________________________________________________________________________________________________\n"
          ],
          "name": "stdout"
        }
      ]
    },
    {
      "cell_type": "code",
      "metadata": {
        "id": "4qFW5mDC_W7R",
        "colab_type": "code",
        "colab": {}
      },
      "source": [
        "a = y_pred * 255"
      ],
      "execution_count": null,
      "outputs": []
    },
    {
      "cell_type": "code",
      "metadata": {
        "id": "vpzfVvZF_ZIB",
        "colab_type": "code",
        "colab": {
          "base_uri": "https://localhost:8080/",
          "height": 34
        },
        "outputId": "f63dbd21-840b-4fb9-ec7b-68b7bd337b45"
      },
      "source": [
        "np.min(a.astype(np.uint8))"
      ],
      "execution_count": null,
      "outputs": [
        {
          "output_type": "execute_result",
          "data": {
            "text/plain": [
              "0"
            ]
          },
          "metadata": {
            "tags": []
          },
          "execution_count": 99
        }
      ]
    },
    {
      "cell_type": "code",
      "metadata": {
        "id": "--eYsHw_1yts",
        "colab_type": "code",
        "colab": {}
      },
      "source": [
        "a = generator.predict(np.random.randn(1,256,256,1))"
      ],
      "execution_count": null,
      "outputs": []
    },
    {
      "cell_type": "code",
      "metadata": {
        "id": "vnvDMM2P2ZZg",
        "colab_type": "code",
        "colab": {
          "base_uri": "https://localhost:8080/",
          "height": 34
        },
        "outputId": "b6c1daea-f546-4621-fe79-2f9a23762091"
      },
      "source": [
        "path_model"
      ],
      "execution_count": null,
      "outputs": [
        {
          "output_type": "execute_result",
          "data": {
            "text/plain": [
              "'/content/drive/My Drive/Licenta/landscapes/models+results/gan/13_skipTrue_conv2D_convo_8_0.5_20,80/models3/gener_ep4.h5'"
            ]
          },
          "metadata": {
            "tags": []
          },
          "execution_count": 62
        }
      ]
    },
    {
      "cell_type": "code",
      "metadata": {
        "id": "h4WrABxS1_mu",
        "colab_type": "code",
        "colab": {
          "base_uri": "https://localhost:8080/",
          "height": 34
        },
        "outputId": "5a7e58c0-5385-4111-ba7a-75473bb8c3e0"
      },
      "source": [
        "np.min(y_pred[0])"
      ],
      "execution_count": null,
      "outputs": [
        {
          "output_type": "execute_result",
          "data": {
            "text/plain": [
              "-0.60908914"
            ]
          },
          "metadata": {
            "tags": []
          },
          "execution_count": 95
        }
      ]
    }
  ]
}
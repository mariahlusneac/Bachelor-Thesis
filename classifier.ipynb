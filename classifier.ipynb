{
  "nbformat": 4,
  "nbformat_minor": 0,
  "metadata": {
    "colab": {
      "name": "classifier.ipynb",
      "provenance": [],
      "machine_shape": "hm"
    },
    "kernelspec": {
      "name": "python3",
      "display_name": "Python 3"
    },
    "accelerator": "GPU"
  },
  "cells": [
    {
      "cell_type": "code",
      "metadata": {
        "id": "usms6NarjOGv",
        "colab_type": "code",
        "colab": {}
      },
      "source": [
        "from keras.models import Sequential\n",
        "from keras.models import load_model\n",
        "from keras.layers import Conv2D\n",
        "from keras.layers import MaxPooling2D\n",
        "from keras.layers import Dense\n",
        "from keras.layers import Flatten\n",
        "from keras.layers import Dropout\n",
        "from keras.layers import Input\n",
        "from keras.optimizers import SGD\n",
        "from keras.callbacks import ModelCheckpoint, ReduceLROnPlateau\n",
        "import numpy as np\n",
        "from PIL import Image\n",
        "import zipfile\n",
        "import os\n",
        "from sklearn.utils import shuffle\n",
        "from time import sleep\n",
        "# import pyautogui"
      ],
      "execution_count": null,
      "outputs": []
    },
    {
      "cell_type": "code",
      "metadata": {
        "id": "-oVG8Lytlk6c",
        "colab_type": "code",
        "colab": {}
      },
      "source": [
        "path = '/content/drive/My Drive/Licenta/classification/'\n",
        "path_models = path + 'models+results3/'\n",
        "path_dataset = path + 'dataset/'\n",
        "path_images = path_dataset + 'images/'\n",
        "path_np_arrays = path_dataset + 'np_arrays/'"
      ],
      "execution_count": null,
      "outputs": []
    },
    {
      "cell_type": "markdown",
      "metadata": {
        "id": "ssDQpDeHDGsL",
        "colab_type": "text"
      },
      "source": [
        "Function that creates npz file"
      ]
    },
    {
      "cell_type": "code",
      "metadata": {
        "id": "EVLpvAYi6yAX",
        "colab_type": "code",
        "colab": {}
      },
      "source": [
        "def archive2np(name_load, name_save, path_images, path_np_arrays):\n",
        "  z = zipfile.ZipFile(path_images + name_load)\n",
        "  x = []\n",
        "  for i, el in enumerate(z.infolist()):\n",
        "    z.extract(el.filename, path_images)\n",
        "    path_img = path_images + el.filename\n",
        "    if path_img != '/content/drive/My Drive/Licenta/classification/dataset/images/111.png':   # problem with image 111.png\n",
        "      im = Image.open(path_img)\n",
        "      im_resized = im.resize((176, 216), Image.NEAREST)\n",
        "      arr = np.asarray(im_resized)\n",
        "      arr = np.expand_dims(arr, axis=2)\n",
        "      x.append(arr)\n",
        "      os.remove(path_img)\n",
        "  x = np.array(x)\n",
        "  np.savez(path_np_arrays + name_save, x=x)"
      ],
      "execution_count": null,
      "outputs": []
    },
    {
      "cell_type": "markdown",
      "metadata": {
        "id": "zgFk1P7fC-Vf",
        "colab_type": "text"
      },
      "source": [
        "Create npz files. No need to run the cell below again"
      ]
    },
    {
      "cell_type": "code",
      "metadata": {
        "id": "v-WLJBDFln8P",
        "colab_type": "code",
        "colab": {}
      },
      "source": [
        "name_train_l_load = 'train_landscapes_yt_256x256_bw.zip'\n",
        "name_train_l_save = 'train_landscapes_yt_216x176_bw'\n",
        "name_train_p_load = 'train_portraits_celeba_216x176_bw.zip'\n",
        "name_train_p_save = 'train_portraits_celeba_216x176_bw'\n",
        "\n",
        "name_test_l_load = 'test_landscapes_yt_256x256_bw.zip'\n",
        "name_test_l_save = 'test_landscapes_yt_216x176_bw'\n",
        "name_test_p_load = 'test_portraits_celeba_216x176_bw.zip'\n",
        "name_test_p_save = 'test_portraits_celeba_216x176_bw'"
      ],
      "execution_count": null,
      "outputs": []
    },
    {
      "cell_type": "code",
      "metadata": {
        "id": "BHQq4W16-5Gi",
        "colab_type": "code",
        "colab": {}
      },
      "source": [
        "archive2np(name_load=name_train_l_load, name_save=name_train_l_save, path_images=path_images, path_np_arrays=path_np_arrays)\n",
        "archive2np(name_load=name_train_p_load, name_save=name_train_p_save, path_images=path_images, path_np_arrays=path_np_arrays)\n",
        "archive2np(name_load=name_test_l_load, name_save=name_test_l_save, path_images=path_images, path_np_arrays=path_np_arrays)\n",
        "archive2np(name_load=name_test_p_load, name_save=name_test_p_save, path_images=path_images, path_np_arrays=path_np_arrays)"
      ],
      "execution_count": null,
      "outputs": []
    },
    {
      "cell_type": "markdown",
      "metadata": {
        "id": "rj97U3hUDbU0",
        "colab_type": "text"
      },
      "source": [
        "Create x_train and y_train"
      ]
    },
    {
      "cell_type": "code",
      "metadata": {
        "id": "PfHkfJn5ypYj",
        "colab_type": "code",
        "colab": {}
      },
      "source": [
        "x_train_l = np.load(path_np_arrays + 'train_landscapes_yt_216x176_bw.npz')['x']\n",
        "x_train_p = np.load(path_np_arrays + 'train_portraits_celeba_216x176_bw.npz')['x']\n",
        "\n",
        "y_train_l = np.zeros(3635)\n",
        "y_train_p = np.ones(3635)"
      ],
      "execution_count": null,
      "outputs": []
    },
    {
      "cell_type": "code",
      "metadata": {
        "id": "ozI0NU6bjSHS",
        "colab_type": "code",
        "colab": {}
      },
      "source": [
        "x_test_l = np.load(path_np_arrays + 'test_landscapes_yt_216x176_bw.npz')['x']\n",
        "x_test_p = np.load(path_np_arrays + 'test_portraits_celeba_216x176_bw.npz')['x']"
      ],
      "execution_count": null,
      "outputs": []
    },
    {
      "cell_type": "code",
      "metadata": {
        "id": "CM-9fhu42TIB",
        "colab_type": "code",
        "colab": {}
      },
      "source": [
        "x_train = np.append(x_train_l, x_train_p, axis=0)\n",
        "y_train = np.append(y_train_l, y_train_p)"
      ],
      "execution_count": null,
      "outputs": []
    },
    {
      "cell_type": "code",
      "metadata": {
        "id": "964NRKZnmMlg",
        "colab_type": "code",
        "colab": {}
      },
      "source": [
        "inp = Input((216, 176, 1))\n",
        "l = Conv2D(32, (3, 3), strides=(2,2), activation='relu', padding='same')(inp)\n",
        "l = MaxPooling2D((2, 2))(l)\n",
        "l = Dropout(0.2)(l)\n",
        "l = Conv2D(64, (3, 3), strides=(2,2), activation='relu', padding='same')(l)\n",
        "l = Dropout(0.2)(l)\n",
        "l = Flatten()(l)\n",
        "l = Dense(128, activation='relu')(l)\n",
        "l = Dropout(0.2)(l)\n",
        "l = Dense(128, activation='relu')(l)\n",
        "l = Dropout(0.2)(l)\n",
        "l = Dense(128, activation='relu')(l)\n",
        "l = Dense(1, activation='sigmoid')(l)\n",
        "model.compile(optimizer='adam', loss='binary_crossentropy', metrics=['accuracy'])\n",
        "model.summary()"
      ],
      "execution_count": null,
      "outputs": []
    },
    {
      "cell_type": "markdown",
      "metadata": {
        "id": "EJJIxSoVDnkg",
        "colab_type": "text"
      },
      "source": [
        "Create and compile model"
      ]
    },
    {
      "cell_type": "markdown",
      "metadata": {
        "id": "tNg_jWGDDvTm",
        "colab_type": "text"
      },
      "source": [
        "Train model"
      ]
    },
    {
      "cell_type": "code",
      "metadata": {
        "id": "FCiG3LcjCJXE",
        "colab_type": "code",
        "colab": {}
      },
      "source": [
        "model_checkpoint = ModelCheckpoint(path_models + 'weights.{epoch:02d}-{loss:.2f}.h5', monitor='loss', period=5)\n",
        "model_reduce_lr = ReduceLROnPlateau(monitor='loss')\n",
        "model.fit(x_train, y_train, epochs=100, batch_size=32, callbacks=[model_checkpoint, model_reduce_lr])"
      ],
      "execution_count": null,
      "outputs": []
    },
    {
      "cell_type": "markdown",
      "metadata": {
        "id": "yfn8powbD57T",
        "colab_type": "text"
      },
      "source": [
        "Test model"
      ]
    },
    {
      "cell_type": "code",
      "metadata": {
        "id": "nCIjvov1B5db",
        "colab_type": "code",
        "colab": {}
      },
      "source": [
        "model = load_model(path_models + 'weights.90-0.00.h5')"
      ],
      "execution_count": null,
      "outputs": []
    },
    {
      "cell_type": "code",
      "metadata": {
        "id": "BdAXs8C7KxV-",
        "colab_type": "code",
        "colab": {
          "base_uri": "https://localhost:8080/",
          "height": 52
        },
        "outputId": "4d9e8c76-3088-45ed-a752-eb9c4b2bed56"
      },
      "source": [
        "y_pred_p = model.predict(x_test_p)\n",
        "print(np.mean(y_pred_p))\n",
        "count = 0\n",
        "for y in y_pred_p:\n",
        "  if y < 0.5:\n",
        "    count += 1\n",
        "print(count)"
      ],
      "execution_count": null,
      "outputs": [
        {
          "output_type": "stream",
          "text": [
            "0.9939072\n",
            "2\n"
          ],
          "name": "stdout"
        }
      ]
    },
    {
      "cell_type": "code",
      "metadata": {
        "id": "3J_mzUK56T4Z",
        "colab_type": "code",
        "colab": {
          "base_uri": "https://localhost:8080/",
          "height": 52
        },
        "outputId": "b168bd1e-aade-4e0a-d672-fcb4c5a5bd5f"
      },
      "source": [
        "y_pred_l = model.predict(x_test_l)\n",
        "print(np.mean(y_pred_l))\n",
        "# print(y_pred_l)\n",
        "count = 0\n",
        "for y in y_pred_l:\n",
        "  if y > 0.5:\n",
        "    count += 1\n",
        "print(count)"
      ],
      "execution_count": null,
      "outputs": [
        {
          "output_type": "stream",
          "text": [
            "3.779015e-05\n",
            "0\n"
          ],
          "name": "stdout"
        }
      ]
    }
  ]
}
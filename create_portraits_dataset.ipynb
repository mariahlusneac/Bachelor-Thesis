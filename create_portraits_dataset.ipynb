{
  "nbformat": 4,
  "nbformat_minor": 0,
  "metadata": {
    "colab": {
      "name": "create_portraits_dataset.ipynb",
      "provenance": [],
      "collapsed_sections": [],
      "machine_shape": "hm"
    },
    "kernelspec": {
      "name": "python3",
      "display_name": "Python 3"
    },
    "accelerator": "GPU"
  },
  "cells": [
    {
      "cell_type": "markdown",
      "metadata": {
        "id": "9WiuZ5x_G64d",
        "colab_type": "text"
      },
      "source": [
        "Imports"
      ]
    },
    {
      "cell_type": "code",
      "metadata": {
        "id": "h4fWZl3facHy",
        "colab_type": "code",
        "colab": {
          "base_uri": "https://localhost:8080/",
          "height": 34
        },
        "outputId": "0171ff82-651a-45dc-f346-4464b630161b"
      },
      "source": [
        "import zipfile\n",
        "from PIL import Image\n",
        "import numpy as np\n",
        "import base64\n",
        "import io\n",
        "from skimage.color import rgb2gray\n",
        "import os\n",
        "from keras.utils import Sequence\n",
        "import random\n",
        "from keras import metrics\n",
        "import math"
      ],
      "execution_count": null,
      "outputs": [
        {
          "output_type": "stream",
          "text": [
            "Using TensorFlow backend.\n"
          ],
          "name": "stderr"
        }
      ]
    },
    {
      "cell_type": "code",
      "metadata": {
        "id": "dVS09io2P4y0",
        "colab_type": "code",
        "colab": {}
      },
      "source": [
        "path = '/content/drive/My Drive/Licenta/portraits_celeba/'\n",
        "path_archives = path + 'dataset/dataset_arrays_archives/'"
      ],
      "execution_count": null,
      "outputs": []
    },
    {
      "cell_type": "markdown",
      "metadata": {
        "id": "R99_YSCkXUn2",
        "colab_type": "text"
      },
      "source": [
        "."
      ]
    },
    {
      "cell_type": "markdown",
      "metadata": {
        "id": "mdQrEUvzWOIK",
        "colab_type": "text"
      },
      "source": [
        "Make 32 archives with 1024 images each. The archives actually contain the numpy arrays corresponding to the images."
      ]
    },
    {
      "cell_type": "markdown",
      "metadata": {
        "id": "J6_MpfkyXWKW",
        "colab_type": "text"
      },
      "source": [
        "."
      ]
    },
    {
      "cell_type": "code",
      "metadata": {
        "id": "NK3ZMLPgWM7w",
        "colab_type": "code",
        "colab": {
          "base_uri": "https://localhost:8080/",
          "height": 34
        },
        "outputId": "eca37eb3-71ba-4048-d2ae-dbfbce537ae7"
      },
      "source": [
        "path = '/content/drive/My Drive/Licenta/portraits_celeba/'\n",
        "z = zipfile.ZipFile(path + 'celeba-dataset.zip')\n",
        "\n",
        "path_archives = path + 'dataset/dataset_arrays_archives/'\n",
        "\n",
        "len_dataset = 6144\n",
        "batch_size = 32\n",
        "nr_archives = 1\n",
        "nr_im_in_zip = int(len_dataset / nr_archives)\n",
        "list_rgb = []\n",
        "list_bw = []\n",
        "archive_nr = 1\n",
        "for i, el in enumerate(z.infolist()):\n",
        "  if 36864 <= i < 43008:\n",
        "    if i % nr_im_in_zip == 0 and i != 36864:\n",
        "      list_rgb = np.asarray(list_rgb)\n",
        "      list_bw = np.asarray(list_bw)\n",
        "      np.savez(path_archives + f'x_val_{archive_nr}', x_val=list_bw)\n",
        "      np.savez(path_archives + f'y_val_{archive_nr}', y_val=list_rgb)\n",
        "      archive_nr += 1\n",
        "      list_rgb = []\n",
        "      list_bw = []\n",
        "      print(i)\n",
        "    # add photos to archives\n",
        "    z.extract(el.filename, path)\n",
        "    path_img = path + el.filename    \n",
        "    im_rgb = Image.open(path_img)\n",
        "    arr_im_rgb = np.asarray(im_rgb)\n",
        "\n",
        "    im_bw = im_rgb.convert('L')\n",
        "    arr_im_bw = np.asarray(im_bw)\n",
        "\n",
        "\n",
        "    for _ in range(2):\n",
        "      arr_im_bw = np.delete(arr_im_bw, -1, 0)\n",
        "      arr_im_rgb = np.delete(arr_im_rgb, -1, 0)\n",
        "    for _ in range(2):\n",
        "      arr_im_bw = np.delete(arr_im_bw, -1, 1)\n",
        "      arr_im_rgb = np.delete(arr_im_rgb, -1, 1)\n",
        "\n",
        "    arr_im_bw = np.expand_dims(arr_im_bw, axis=2)\n",
        "\n",
        "    list_rgb.append(arr_im_rgb)\n",
        "    list_bw.append(arr_im_bw)\n",
        "\n",
        "    os.remove(path_img)\n",
        "    # print(i)\n",
        "  elif i == 43008:\n",
        "    list_rgb = np.asarray(list_rgb)\n",
        "    list_bw = np.asarray(list_bw)\n",
        "    np.savez(path_archives + f'x_val_all', x_val=list_bw)\n",
        "    np.savez(path_archives + f'y_val_all', y_val=list_rgb)\n",
        "    archive_nr += 1      \n",
        "    list_rgb = []\n",
        "    list_bw = []\n",
        "    print(i)\n",
        "    z.extract(el.filename, path)\n",
        "    path_img = path + el.filename    \n",
        "    im_rgb = Image.open(path_img)\n",
        "    arr_im_rgb = np.asarray(im_rgb)\n",
        "\n",
        "    im_bw = im_rgb.convert('L')\n",
        "    arr_im_bw = np.asarray(im_bw)\n",
        "\n",
        "\n",
        "    for _ in range(2):\n",
        "      arr_im_bw = np.delete(arr_im_bw, -1, 0)\n",
        "      arr_im_rgb = np.delete(arr_im_rgb, -1, 0)\n",
        "    for _ in range(2):\n",
        "      arr_im_bw = np.delete(arr_im_bw, -1, 1)\n",
        "      arr_im_rgb = np.delete(arr_im_rgb, -1, 1)\n",
        "\n",
        "    arr_im_bw = np.expand_dims(arr_im_bw, axis=2)\n",
        "\n",
        "    list_rgb.append(arr_im_rgb)\n",
        "    list_bw.append(arr_im_bw)\n",
        "\n",
        "    os.remove(path_img)\n",
        "\n",
        "    break\n",
        "    "
      ],
      "execution_count": null,
      "outputs": [
        {
          "output_type": "stream",
          "text": [
            "43008\n"
          ],
          "name": "stdout"
        }
      ]
    },
    {
      "cell_type": "code",
      "metadata": {
        "id": "3n_Y3WJ-1x92",
        "colab_type": "code",
        "colab": {
          "base_uri": "https://localhost:8080/",
          "height": 34
        },
        "outputId": "70f0946c-9273-4aba-c976-ec70543417ed"
      },
      "source": [
        "archive_idx = 32\n",
        "\n",
        "x_archive = np.load(path_archives + f'x_{archive_idx}.npz')\n",
        "x_archive = x_archive['x_train']\n",
        "y_archive = np.load(path_archives + f'y_{archive_idx}.npz')\n",
        "y_archive = y_archive['y_train']\n",
        "\n",
        "x_archive = np.asarray(x_archive, dtype=np.float64)\n",
        "x_archive = x_archive / 255\n",
        "y_archive = np.asarray(y_archive, dtype=np.float64)\n",
        "y_archive = y_archive / 255\n",
        "\n",
        "x_archive = x_archive * 255\n",
        "x_archive = np.asarray(x_archive, dtype=np.uint8)\n",
        "\n",
        "y_archive = y_archive * 255\n",
        "y_archive = np.asarray(y_archive, dtype=np.uint8)\n",
        "\n",
        "print(x_archive.shape)"
      ],
      "execution_count": null,
      "outputs": [
        {
          "output_type": "stream",
          "text": [
            "(1024, 216, 176, 1)\n"
          ],
          "name": "stdout"
        }
      ]
    }
  ]
}